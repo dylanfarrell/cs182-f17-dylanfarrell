{
 "cells": [
  {
   "cell_type": "markdown",
   "metadata": {},
   "source": [
    "# CS 182: Artificial Intelligence\n",
    "# Assignment 4: Probability and Inference under Uncertainty\n",
    "\n",
    "* Fall 2017\n",
    "* Due: **Thursday**, November 2, 5:00pm\n",
    "\n",
    "In this assignment, you will use probabilistic inference and particle filtering to guide Pacman through a tracking  problem. Note: We will use the Pacman framework developed at Berkeley. This framework is used worldwide to teach AI, therefore it is very important that you DO NOT publish your solutions online."
   ]
  },
  {
   "cell_type": "markdown",
   "metadata": {},
   "source": [
    "\n",
    "## Pacman (17 points)\n",
    "\n",
    "<img src=\"https://s3-us-west-2.amazonaws.com/cs188websitecontent/projects/release/tracking/v1/001/busters.png\">\n",
    "\n",
    "Follow the instructions at\n",
    "\n",
    "> http://ai.berkeley.edu/tracking.html\n",
    "\n",
    "and complete **Q1-Q5**. You are NOT required to do Q6 or Q7, but they are interesting problems and worth taking a look at if you have extra time.\n",
    "\n",
    "The page includes questions requiring implementation of sequential decision making and reinforcement algorithms we studied in class. [We will be using the Berkeley grading scheme to grade this part of the problem set.]\n"
   ]
  },
  {
   "cell_type": "markdown",
   "metadata": {},
   "source": [
    "### Notes:\n",
    "\n",
    "This is one of the hardest of the Pacman assignments, but also one of the most interesting. Be sure you understand the theoretical aspects of tracking and hidden Markov models, as well as particle filters, before you get started."
   ]
  },
  {
   "cell_type": "markdown",
   "metadata": {},
   "source": [
    "## RRT Algorithm (8 points)\n",
    "\n",
    "<img src=\"https://upload.wikimedia.org/wikipedia/en/thumb/f/f5/RRT_graph1.png/300px-RRT_graph1.png\">\n",
    "\n",
    "In this section, you'll be implementing the RRT robotic planning algorithm. All code can be found in the `rrt/` files. Your goal will be to implement several functions in `util.py` to successfully find a path from a source point to the goal using RRT. This path should avoid collisions with obstacles.\n",
    "\n",
    "**NOTE: All code should be written in `util.py`.**\n",
    "\n",
    "**NOTE: You need to install pygame for this to run: `pip install pygame`**\n",
    "\n",
    "Functions that should be filled in for full credit are:\n",
    "* `winCondition`\n",
    "* `nearestBode`\n",
    "* `getNewPoint`\n",
    "* `extend`\n",
    "* `isCollisionFree`\n",
    "\n",
    "To test your implementation, there are three maps that increase in difficulty:\n",
    "* `python runNoObs.py` -- no obstacles (you can test your other functions with this before implementing `isCollisionFree` -- just make sure `isCollisionFree` returns True always -- should take 500ish iterations)\n",
    "* `python runBugtrap.py` -- start in a bugtrap (should take a couple thousand iterations)\n",
    "* `python runDoubleBugtrap.py` -- start and end in a bugtrap (as we discussed in class, this could take some time)\n",
    "\n",
    "Note: Sometimes the graphics will make it appear that a vaild solution is just barely crossing the tip of a diagonal line. Also by construction our tests will never take a step that is bigger than an obstacle so you do not need to worry about collisions in the middle of your extensions. [You're welcome :-)](https://www.youtube.com/watch?v=79DijItQXMM)\n"
   ]
  },
  {
   "cell_type": "markdown",
   "metadata": {},
   "source": [
    "## Written Assignment (15 points)\n",
    "\n",
    "Answer the following questions individually, and submit as pdf to Canvas. "
   ]
  },
  {
   "cell_type": "markdown",
   "metadata": {},
   "source": [
    "### The Coin Problem (3 points)\n",
    "#### Question 1 (3 points)\n",
    "\n",
    "Ankit and Aidi decide to play a coin game to show how we can use HMMs for sequence analysis problems. Aidi tosses first, then they take turns based on rules described below. The game finishes when the subsequence \"HTH\" appears, and whoever last flips the coin wins. Each player can flip the coin for multiple turns in a row, and the rules for stopping and switching to the other partner are as follows:\n",
    "\n",
    "1. Every time Aidi flips the coin, she also flips an extra unfair coin (P(H) = 0.3). She stops if the extra unfair coin lands heads. Otherwise, she keeps flipping the fair and extra biased coin (at the same time). The flips of the extra coin are not recorded.\n",
    "2. Every time Ankit flips the coin, he only flips the fair coin until H appears (and all flips are recorded).\n",
    "\n",
    "You're given a sequence of recorded coin fips. You'd like to infer the winner and the flips of each player.\n",
    "\n",
    "Describe an HMM to model this game (draw a diagram with nodes rep and edges/arrows).\n",
    "\n",
    "---------"
   ]
  },
  {
   "cell_type": "markdown",
   "metadata": {},
   "source": [
    "### Typing Simulation (9 points)\n",
    "For Questions 2-5 you will play a typing simulation. Let random variable $E$ represent the observed key press, and $X$ represent the hidden (intended) key press.  We have a language with 4 letters (A, B, C, D), and a keyboard arranged as a circle. \n",
    "\n",
    "<table>\n",
    "<tr> <td>A</td><td>B</td> </tr> \n",
    "<tr> <td>C</td><td>D</td>  </tr>\n",
    "</table>\n",
    "\n",
    "At any time, the probability of hitting the intended key is 50%, and the probability of hitting the neighboring keys is 25%. For example:\n",
    "\n",
    "$$ P(E | X = \\mathrm{B}) $$\n",
    "\n",
    "<table>\n",
    "<tr> <td>0.25</td><td>0.5</td> </tr> \n",
    "<tr> <td>0</td><td>0.25</td>  </tr>\n",
    "</table>\n",
    "\n",
    "We will construct a filtering model for constructing the belief state for this problem.\n",
    "\n",
    "#### Question 2 (1 point)\n",
    "\n",
    "Assuming a uniform prior distribution, calculate the condition probability table (CPT) of $P(X=x | E=e)$ for all $x$ and $e$. \n",
    "\n",
    "#### Question 3 (2 points)\n",
    "\n",
    "Now let the prior distribution be:\n",
    "\n",
    "\n",
    "| x  |  P(X=x) |\n",
    "|---|---|\n",
    "|A | 0.4 |\n",
    "|B | 0.2    |\n",
    "|C | 0.1    |\n",
    "|D | 0.3    | \n",
    "\n",
    "Calculate the CPT $P(X=x | E=e)$ for all $x$ and $e$. \n",
    " \n",
    "#### Question 4 (3 points)\n",
    "\n",
    "Consider the following transition model:\n",
    "\n",
    "$$P(X' | X)$$\n",
    "\n",
    "\n",
    "|   |  A' | B' | C' | D' |\n",
    "|---|---|---|----------|\n",
    "|Begin | 1| 0| 0| 0| \n",
    "|A | 0.5 | 0.5 | 0 | 0 |\n",
    "|B | 0.0 | 0.5| 0.5| 0|\n",
    "|C | 0.5 | 0| 0| 0.5|\n",
    "|D |  0.25   |0.25 |0.25 | 0.25|\n",
    "\n",
    "For this problem we are concerned with true (hidden) state sequences, as opposed to observations. What is the probability under this model of the sequence of letters \"A B B C D\"? How about \"A A B A\"? What is $P(X_3=x | X_1 = \\mathrm{A}, X_2 = \\mathrm{B})$ for all $x$?\n",
    "\n",
    "\n",
    "#### Question 5 (3 points)\n",
    "\n",
    "Finally we consider the full filtering problem in which we compute $P(X_n | E_1, \\ldots, E_n)$. Let \"A B B C D\" be the sequence of observed key strokes. What is the current belief state of the model? That is compute $P(X_n = x | E_1 = \\mathrm{A}, E_2=\\mathrm{B}, E_3=\\mathrm{B}, E_4 = \\mathrm{C}, E_5=\\mathrm{D})$ for all $x$ and $n = 2, 3, 4, 5$.\n",
    "\n",
    "---------"
   ]
  },
  {
   "cell_type": "markdown",
   "metadata": {},
   "source": [
    "### Robotic Motion Planning (3 points)\n",
    "#### Question 6 (3 points)\n",
    "Describe using pseudocode an RRT-based planning algorithm that uses more than two trees. Make sure to consider issues such as the maximum number of allowable trees, when to start a tree, and when to attempt connections between trees.\n",
    "\n",
    "What are the types of problems for which this algorithm would perform better than RRT or bi-directional RRT?"
   ]
  },
  {
   "cell_type": "code",
   "execution_count": null,
   "metadata": {
    "collapsed": true
   },
   "outputs": [],
   "source": []
  }
 ],
 "metadata": {
  "anaconda-cloud": {},
  "kernelspec": {
   "display_name": "Python 2",
   "language": "python",
   "name": "python2"
  },
  "language_info": {
   "codemirror_mode": {
    "name": "ipython",
    "version": 2
   },
   "file_extension": ".py",
   "mimetype": "text/x-python",
   "name": "python",
   "nbconvert_exporter": "python",
   "pygments_lexer": "ipython2",
   "version": "2.7.13"
  }
 },
 "nbformat": 4,
 "nbformat_minor": 1
}
