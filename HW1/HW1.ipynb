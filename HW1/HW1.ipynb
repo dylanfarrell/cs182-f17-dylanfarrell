{
 "cells": [
  {
   "cell_type": "markdown",
   "metadata": {},
   "source": [
    "# CS 182: Artificial Intelligence\n",
    "# Assignment 1: Search Algorithms\n",
    "* Fall 2017\n",
    "* Due: 5:00pm, Thursday, Sept. 21, 2017\n",
    "\n",
    "In this assignment, you will implement search algorithms to help Pacman find paths in a maze. \n",
    "Note: We will use the Pacman framework developed at Berkeley. This framework is used worldwide to teach AI, therefore it is very important that you DO NOT publish your solutions online.\n",
    "\n",
    "\n",
    "\n"
   ]
  },
  {
   "cell_type": "markdown",
   "metadata": {},
   "source": [
    "![Pacman](https://upload.wikimedia.org/wikipedia/en/5/59/Pac-man.png)\n"
   ]
  },
  {
   "cell_type": "markdown",
   "metadata": {},
   "source": [
    "## Submission Requirements\n",
    "\n",
    "Solutions should be **submitted to Canvas**. For the computational part, submit the link to your private Github repo, as well as the name of the person you worked with as a comment (if you work in a pair). For the written part, format your responses as a PDF named `lastname_firstname_HW1.pdf` and submit it to Canvas. **The written part of this assignment must be done individually**. Submissions not following the requirements *will not be graded*.\n",
    "\n",
    "## Computational Assignment\n",
    "\n",
    "### Question 1 (25 points)\n",
    "\n",
    "Follow the instructions at:\n",
    "\n",
    "http://ai.berkeley.edu/search.html\n",
    "\n",
    "The page includes questions requiring implementation of some of the search algorithms we studied in class. [The grading scheme described on the Berkeley webpage will be used]\n",
    "\n",
    "\n",
    "To get the assignment follow the Berkeley zip file:\n",
    "\n",
    "> https://s3-us-west-2.amazonaws.com/cs188websitecontent/projects/release/search/v1/001/search.zip\n"
   ]
  },
  {
   "cell_type": "markdown",
   "metadata": {},
   "source": [
    "### Important Note:\n",
    "\n",
    "There is an optimization to graph search that we did not cover in class that will be necessary to obtain top marks on the homework. (Particularly note for BFS and Q6-Q7). These will result in slight modifications to the general pseudo-code from class.\n",
    "\n",
    "* For BFS and DFS you can avoid pushing paths that are already on the frontier. This is valid because for these algorithms, paths of the same depth and last state are equivalent. (The autograder may complain about this for DFS, but we will accept the solution.)\n",
    "\n",
    "* You can however _not_ do this for UCS or A\\* since these algorithms are aware of the path cost, and so it is possible that, from the algorithms perspective, the new path is superior to a path with the same last state that was previously added to the frontier. However, for these algorithms, you can avoid pushing paths if there is a lower cost path with the same last state in the frontier. \n",
    "\n",
    "_Note_ in practice, you can implement this for all the algorithms in the homework by keeping track of the best path cost to each state in the explored list (now using dictionary). You should update this explored dictionary when pushing a path (as opposed to when popping). For BFS and DFS you can simply check that a new path does not end in an explored state. For the others, you should check that the new path is better than the current best path cost, and otherwise prune.  **You should not have to modify the stack, queue, or priority queue data structures.** AIMA gives a different algorithm here that is harder to implement but will also work.\n",
    "\n",
    "One further note, in AIMA they also note that for BFS you can accept a solution path on pushing as opposed to on exploring (popping). Implementing this will give you a small speed up on this problem, but potentially a larger speed-up on problems with a large branching factor. In our implementation, BFS requires 1966 expansions after the first change, 1921 after the second. "
   ]
  },
  {
   "cell_type": "markdown",
   "metadata": {},
   "source": [
    "## Written Assignment (15 points)\n",
    "\n",
    "### Question 1 (3 points):\n",
    "\n",
    "Which of the following are true and which are false? Explain your answers. \n",
    "\n",
    "1a. Depth-first search always expands at least as many nodes as A\\* search with an admissible heuristic. \n",
    "\n",
    "1b. h(n) = 0 is an admissible heuristic for the 15-puzzle (https://en.wikipedia.org/wiki/15_puzzle).\n",
    "\n",
    "1c. A\\* is of no use in robotics because percepts, states, and actions are continuous.\n",
    "\n",
    "1d. Breadth-first search is complete even if zero step costs are allowed. \n",
    "\n",
    "1e. Assume that a rook can move on a chessboard any number of squares in a straight line, vertically or horizontally, but cannot jump over other pieces. Manhattan distance is an admissible heuristic for the problem of moving the rook from square A to square B in the smallest number of moves. \n",
    "\n",
    "### Question 2 (3 points):\n",
    "\n",
    "The iterative lengthening search algorithm is an iterative analog of uniform cost search. The idea is to use increasing limits on path cost. If a node is generated whose path cost exceeds the current limit, it is immediately discarded. For each new iteration, the limit is set to the lowest path cost of any node discarded in the previous iteration. \n",
    "\n",
    "2a. Show that this algorithm is optimal for general path costs.\n",
    "\n",
    "2b. Consider a uniform tree with branching factor b, solution depth d, and unit step costs. How many iterations will iterative lengthening require?\n",
    "\n",
    "2c. Now consider step costs drawn from the continuous range [ε, 1], where 0 < ε < 1. How many iterations are required in the worst case?\n",
    "\n",
    "###  Question 3 (3 points):\n",
    "\n",
    "Describe a state space in which iterative deepening search performs much worse than depth-first search (for example, O(n<sup>2</sup>) vs. O(n)).\n",
    "\n",
    "### Question 4 (3 points):\n",
    "Prove each of the following statements, or give a counterexample:\n",
    "\n",
    "4a. Breadth-first search is a special case of uniform-cost search.\n",
    "\n",
    "4b. Depth-first search is a special case of best-first tree search.\n",
    "\n",
    "4c. Uniform-cost search is a special case of A∗ search.\n",
    "\n",
    "### Question 5 (3 points):\n",
    "Prove that if a heuristic is consistent, it must be admissible. Construct an admissible\n",
    "heuristic that is not consistent.\n"
   ]
  },
  {
   "cell_type": "code",
   "execution_count": null,
   "metadata": {
    "collapsed": true
   },
   "outputs": [],
   "source": []
  }
 ],
 "metadata": {
  "anaconda-cloud": {},
  "kernelspec": {
   "display_name": "Python [default]",
   "language": "python",
   "name": "python2"
  },
  "language_info": {
   "codemirror_mode": {
    "name": "ipython",
    "version": 2
   },
   "file_extension": ".py",
   "mimetype": "text/x-python",
   "name": "python",
   "nbconvert_exporter": "python",
   "pygments_lexer": "ipython2",
   "version": "2.7.13"
  }
 },
 "nbformat": 4,
 "nbformat_minor": 1
}
