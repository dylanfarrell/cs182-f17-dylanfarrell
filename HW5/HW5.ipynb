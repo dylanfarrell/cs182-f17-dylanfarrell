{
 "cells": [
  {
   "cell_type": "markdown",
   "metadata": {},
   "source": [
    "# CS 182: Artificial Intelligence\n",
    "# Assignment 5: Naive Bayes and Classifiers\n",
    "\n",
    "* Fall 2017\n",
    "* Due: **Thursday**, November 16, 2017\n",
    "\n",
    "In this assignment, you will implement a Naive Bayes classifier to predict the number of stars given to a movie based on text from its review."
   ]
  },
  {
   "cell_type": "markdown",
   "metadata": {},
   "source": [
    "\n"
   ]
  },
  {
   "cell_type": "markdown",
   "metadata": {},
   "source": [
    "\n",
    "## Computational Assignment (15 points)\n",
    "\n",
    "\n",
    "In the repo is a python file titled hw5.py which contains all instructions for the problems."
   ]
  },
  {
   "cell_type": "markdown",
   "metadata": {},
   "source": [
    "## Written Assignment (25 points) \n",
    "\n",
    "\n"
   ]
  },
  {
   "cell_type": "markdown",
   "metadata": {},
   "source": [
    "#### Question 1 (4 points)\n",
    "\n",
    "You are an NFL referee scheduled for the upcoming Thanksgiving game with the Redskins playing the Cowboys. An NFL executive gives you a coin to use for the opening toss. Given the Cowboys' recent success and knowing how the league benefits from it, you're suspicious of the fairness of the coin. Suppose the coin has a constant, unknown probability $0 < p < 1$ of landing on heads. Come up with a flipping strategy that would simulate a fair coin, i.e. the event you label \"heads\" will occur an expected 50% of the time."
   ]
  },
  {
   "cell_type": "markdown",
   "metadata": {},
   "source": [
    "#### Question 2 (6 points)\n",
    "The following questions use this Bayesian Network of binary (0 or 1) random variables\n",
    "<img src=\"BN.png\">\n",
    "\n",
    "\n",
    "a) For a binary random variable $X$, a single value $P(X=0)$ can explain the entire distribution as $P(X=1) = 1-P(X=0)$. What's the minimum number of values needed to completely explain the joint probability distribution of the provided Bayesian Network?\n",
    "\n",
    "b) Which nodes are dependent on $X_2$, meaning $P(X_i|X_2)$ != $P(X_i)$?\n",
    "\n",
    "c) Which nodes are dependent on $X_2$ if $X_3$ is given?"
   ]
  },
  {
   "cell_type": "markdown",
   "metadata": {},
   "source": [
    "#### Question 3 (10 points)\n",
    "\n",
    "It's the busiest time of the semester, and you have so much work to do that your eating schedule has gone out of whack. On a given day, your state is either very hungry or you've eaten so much food that you've become very sleepy. You have an observable behavior based on your state of being either gregarious, aloof, or violently angry. Your given HMM model is:\n",
    "\n",
    "|        | P($S_1$) |\n",
    "|--------|----------|\n",
    "| hungry | 1        |\n",
    "| sleepy | 0        |\n",
    "\n",
    "|        | P($S_t \\vert S_{t-1} = hungry$) |\n",
    "|--------|---------------------------------|\n",
    "| hungry | $\\frac{1}{4}$                   |\n",
    "| sleepy | $\\frac{3}{4}$                   |\n",
    "\n",
    "|        | P($S_t \\vert S_{t-1} = sleepy$) |\n",
    "|--------|---------------------------------|\n",
    "| hungry | $\\frac{3}{4}$                   |\n",
    "| sleepy | $\\frac{1}{4}$                   |\n",
    "\n",
    "|            | P($B_t \\vert S_t = hungry$) |\n",
    "|------------|-----------------------------|\n",
    "| gregarious | $\\frac{1}{4}$               |\n",
    "| aloof      | $\\frac{1}{4}$               |\n",
    "| violent    | $\\frac{1}{2}$               |\n",
    "\n",
    "|            | P($B_t \\vert S_t = sleepy$) |\n",
    "|------------|-----------------------------|\n",
    "| gregarious | $\\frac{1}{4}$               |\n",
    "| aloof      | $\\frac{3}{4}$               |\n",
    "| violent    | 0                           |\n",
    "\n",
    "a) What is P($S_2 = hungry \\vert B_2 = aloof$)?\n",
    "\n",
    "b) Your friend realizes after a day something isn't right. He's considering either talking to you or leaving you alone. His utility from talking to you given your state is:\n",
    "\n",
    "| $S_2$    | U       |\n",
    "|--------|---------|\n",
    "| hungry | -2      |\n",
    "| sleepy | 3       |\n",
    "\n",
    "And 0 utility if he leaves you alone.\n",
    "\n",
    "Draw a decision diagram involving $S_1, S_2, B_2, A_2, U$ where $A$ corresponds to the action your friend takes\n",
    "\n",
    "c) Using the same utilities, what is the expected utility of your friend talking to you if your friend hadn't observed your behavior\n",
    "\n",
    "d) Now what is the expected utility if your friend sees you're aloof?"
   ]
  },
  {
   "cell_type": "markdown",
   "metadata": {
    "collapsed": true
   },
   "source": [
    "#### Question 4 (5 points)\n",
    "\n",
    "Recall the algorithm for K-means clustering. Given a dataset $X=\\{x_1,x_2,...x_n\\}$ and clusters $S=\\{s_1,s_2,...,s_k\\}$:\n",
    "\n",
    "$$J(m_1, ..., m_k) = \\sum_{j=1}^k\\sum_{x \\in s_j}\\lVert x-m_j \\rVert^2$$\n",
    "\n",
    "\n",
    "Repeat while $J$ is decreasing:\n",
    "\n",
    "1. Set $x_i \\in s_j$ for $j$ that minimizes $\\lVert x_i - m_j \\rVert^2$\n",
    "2. Update $m_j$ given updated $s_j$, remove if empty\n",
    "\n",
    "a) Explain why this algorithm is guaranteed to halt.\n",
    "\n",
    "b) Given $\\bar{x} = \\frac{\\sum_{i=1}^n x_i}{n}$, define the following variance values:\n",
    "\n",
    "$$\\sigma(X) = \\frac{\\sum_{i=1}^n \\lVert x_i - \\bar{x} \\rVert^2}{n}$$"
   ]
  },
  {
   "cell_type": "markdown",
   "metadata": {},
   "source": [
    "$$\\psi_j(X) = \\frac{\\sum_{x \\in s_j} \\lVert x - m_j \\rVert^2}{\\vert s_j \\vert}$$"
   ]
  },
  {
   "cell_type": "markdown",
   "metadata": {},
   "source": [
    "$$\\beta(X) = \\sum_{j=1}^k \\frac{\\vert s_j \\vert}{n}\\lVert m_j - \\bar{x} \\rVert^2$$\n",
    "\n",
    "Write $\\sigma(X)$ in terms of $\\psi_j(X)$ and $\\beta(X)$ (the equation may become messy with additional terms, you can simplify and say + some constant). Given this relationship, explain what the K-means clustering algorithm is doing in terms of $\\psi_j$ and $\\beta$."
   ]
  },
  {
   "cell_type": "code",
   "execution_count": null,
   "metadata": {
    "collapsed": true
   },
   "outputs": [],
   "source": []
  }
 ],
 "metadata": {
  "anaconda-cloud": {},
  "kernelspec": {
   "display_name": "Python 2",
   "language": "python",
   "name": "python2"
  },
  "language_info": {
   "codemirror_mode": {
    "name": "ipython",
    "version": 2
   },
   "file_extension": ".py",
   "mimetype": "text/x-python",
   "name": "python",
   "nbconvert_exporter": "python",
   "pygments_lexer": "ipython2",
   "version": "2.7.11"
  }
 },
 "nbformat": 4,
 "nbformat_minor": 0
}
