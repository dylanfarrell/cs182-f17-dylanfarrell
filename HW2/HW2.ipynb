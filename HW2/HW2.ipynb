{
 "cells": [
  {
   "cell_type": "markdown",
   "metadata": {},
   "source": [
    "# CS 182: Artificial Intelligence\n",
    "# Assignment 2: Adversarial Search and Constraint Satisfaction\n",
    "* Fall 2017\n",
    "* Due: Oct 5, 5pm\n",
    "\n",
    "In Part 1 (15 points), you will implement adversarial search algorithms to help Pacman find paths in a maze with ghosts. Note: We will use the Pacman framework developed at Berkeley. This framework is used world-wide to teach AI, therefore it is very important that you DO NOT publish your solutions online. \n",
    "\n",
    "In Part 2 (15 points), you will implement a Sudoku solver by treating Sudoku as a constraint satisfaction problem (CSP). \n",
    "\n",
    "In Part 3 (10 points), you will answer 3 written questions. "
   ]
  },
  {
   "cell_type": "markdown",
   "metadata": {},
   "source": [
    "## Submission Requirements\n",
    "\n",
    "Solutions should be **submitted to Canvas**. For the written part, format your responses as a PDF named `lastname_firstname_HW2.pdf` and submit it to Canvas. For the computational part, submit the link to your private Github repo and the name of the person you worked with as a comment on the PDF submission (if you work in a pair). **The written part of this assignment must be done individually**. Submissions not following the requirements *will not be graded*.\n",
    "\n",
    "## Part 1: Adversarial Search (15 points)\n",
    "\n",
    "Follow the instructions **for Q2-Q4** at: \n",
    "\n",
    "> http://ai.berkeley.edu/multiagent.html\n",
    "\n",
    "The page includes questions requiring implementation of some of the game playing algorithms we studied in class. The updated Berkeley files are in the multiagent folder.\n",
    "\n",
    "Do not use Assignment 1’s files because there are some small changes. You can, however, use your search.py and searchAgents.py files if they are helpful."
   ]
  },
  {
   "cell_type": "markdown",
   "metadata": {},
   "source": [
    "## Part 2: Solving Sudoku as a Constraint Satisfaction Problem (CSP) (15 Points)\n",
    "\n",
    "In a traditional search problem (as in HW1), we treat each state of a problem abstractly. A state has a goal test and a transition model, but we never look inside the representation of a state. In a constraint satisfaction problem (CSP), a state is no longer opaque, we can peek in to check if we are on the right track. \n",
    "\n",
    "In this problem set, you will implement a very common CSP, Sudoku! Sudoku solvers leverage a few essential techniques for solving CSPs. The code for this project is in `sudoku.py`."
   ]
  },
  {
   "cell_type": "markdown",
   "metadata": {},
   "source": [
    "This runnable IPython notebook walks you through the elements of Sudoku you will need to implement for this assignment."
   ]
  },
  {
   "cell_type": "code",
   "execution_count": 1,
   "metadata": {
    "collapsed": false
   },
   "outputs": [],
   "source": [
    "from sudoku import *\n",
    "import IPython.display\n",
    "sudoku = Sudoku(boardHard)"
   ]
  },
  {
   "cell_type": "markdown",
   "metadata": {},
   "source": [
    "(If you want to run the assignment in IPython notebook, you should call `set_args([])` to set global  `set_args([\"-forward\", \"1\"])`)"
   ]
  },
  {
   "cell_type": "markdown",
   "metadata": {},
   "source": [
    "## Modeling (5 points)"
   ]
  },
  {
   "cell_type": "markdown",
   "metadata": {},
   "source": [
    "### Problem 0: Introduction to Sudoku\n",
    "If you are not familiar with Sudoku puzzles, read the Wikipedia page on Sudoku to familiarize yourself with the basic rules.\n",
    "\n",
    "https://en.wikipedia.org/wiki/Sudoku\n",
    "\n",
    "Here is an example of a Sudoku grid:"
   ]
  },
  {
   "cell_type": "code",
   "execution_count": 3,
   "metadata": {
    "collapsed": false
   },
   "outputs": [
    {
     "data": {
      "text/html": [
       "<style>\n",
       "         .sudoku td {\n",
       "            width: 20pt;\n",
       "            text-align: center;\n",
       "            border-color: #AAAAAA;\n",
       "         }\n",
       "\n",
       "        </style><center><table class='sudoku' style='border:none; border-collapse:collapse; background-color:#FFFFFF; border: #666699 solid 2px;'><tr style='border: #AAAAAA 1px'><td style=''> </td><td style=''> </td><td style=''> </td><td style='border-left: #666699 solid 2px;'> </td><td style=''> </td><td style=''>8</td><td style='border-left: #666699 solid 2px;'>9</td><td style=''> </td><td style=''>2</td></tr><tr style='border: #AAAAAA 1px'><td style=''>6</td><td style=''> </td><td style=''>4</td><td style='border-left: #666699 solid 2px;'>3</td><td style=''> </td><td style=''> </td><td style='border-left: #666699 solid 2px;'> </td><td style=''> </td><td style=''> </td></tr><tr style='border: #AAAAAA 1px'><td style=''> </td><td style=''> </td><td style=''> </td><td style='border-left: #666699 solid 2px;'>5</td><td style=''>9</td><td style=''> </td><td style='border-left: #666699 solid 2px;'> </td><td style=''> </td><td style=''> </td></tr><tr style='border:none; border-collapse:collapse; background-color:#AAAAAA 1px; border-top: #666699 solid 2px'><td style=''> </td><td style=''> </td><td style=''>5</td><td style='border-left: #666699 solid 2px;'>7</td><td style=''> </td><td style=''>3</td><td style='border-left: #666699 solid 2px;'> </td><td style=''> </td><td style=''>9</td></tr><tr style='border: #AAAAAA 1px'><td style=''>7</td><td style=''> </td><td style=''> </td><td style='border-left: #666699 solid 2px;'> </td><td style=''>4</td><td style=''> </td><td style='border-left: #666699 solid 2px;'> </td><td style=''> </td><td style=''> </td></tr><tr style='border: #AAAAAA 1px'><td style=''> </td><td style=''> </td><td style=''>9</td><td style='border-left: #666699 solid 2px;'> </td><td style=''> </td><td style=''> </td><td style='border-left: #666699 solid 2px;'>3</td><td style=''> </td><td style=''>5</td></tr><tr style='border:none; border-collapse:collapse; background-color:#AAAAAA 1px; border-top: #666699 solid 2px'><td style=''> </td><td style=''>8</td><td style=''> </td><td style='border-left: #666699 solid 2px;'> </td><td style=''> </td><td style=''>4</td><td style='border-left: #666699 solid 2px;'> </td><td style=''> </td><td style=''> </td></tr><tr style='border: #AAAAAA 1px'><td style=''> </td><td style=''>4</td><td style=''>1</td><td style='border-left: #666699 solid 2px;'> </td><td style=''> </td><td style=''> </td><td style='border-left: #666699 solid 2px;'> </td><td style=''>3</td><td style=''> </td></tr><tr style='border: #AAAAAA 1px'><td style=''>2</td><td style=''> </td><td style=''> </td><td style='border-left: #666699 solid 2px;'>1</td><td style=''>5</td><td style=''> </td><td style='border-left: #666699 solid 2px;'> </td><td style=''> </td><td style=''> </td></tr></table></center>"
      ],
      "text/plain": [
       "<IPython.core.display.HTML object>"
      ]
     },
     "execution_count": 3,
     "metadata": {},
     "output_type": "execute_result"
    }
   ],
   "source": [
    "IPython.display.HTML(sudoku.printhtml())"
   ]
  },
  {
   "cell_type": "markdown",
   "metadata": {},
   "source": [
    "We also implement a method `prettyprint` which will show the true state of the CSP. Each column shows the labels that still can be used in each column and row (note we do not show the remaining values in the boxes). You will first need to implement the factor updates below to get prettyprint to work.\n",
    "\n",
    "Note here we show the web version of this function `prettyprinthtml` (you can also use `print sudoku` from the command line.)"
   ]
  },
  {
   "cell_type": "code",
   "execution_count": 7,
   "metadata": {
    "collapsed": false
   },
   "outputs": [
    {
     "data": {
      "text/html": [
       "<style>\n",
       "         .sudoku .board {\n",
       "            width: 20pt;\n",
       "            text-align: center;\n",
       "            border-color: #AAAAAA;\n",
       "         }\n",
       "\n",
       "         .sudoku .out {\n",
       "            width: 10pt;\n",
       "            text-align: center;\n",
       "            border-color: #FFFFFF;\n",
       "         }\n",
       "\n",
       "         .sudoku .outtop {\n",
       "            padding: 0pt;\n",
       "            text-align: center;\n",
       "            border-color: #FFFFFF;\n",
       "         }\n",
       "\n",
       "        </style><center><table class='sudoku' style='border:none;border-collapse:collapse;  background-color:#FFFFFF; border: #666699 solid 2px;'><tr style='border: none;'><td class='outtop' style='border-left: #666699 solid 2px;'> 1 </td><td class='outtop' style=''>     </td><td class='outtop' style=''>     </td><td class='outtop' style='border-left: #666699 solid 2px;'>     </td><td class='outtop' style=''> 1 </td><td class='outtop' style=''>     </td><td class='outtop' style='border-left: #666699 solid 2px;'> 1 </td><td class='outtop' style=''> 1 </td><td class='outtop' style='border-right: #666699 solid 2px;'>     </td><td class='outtop'></td><td class='outtop'></td><td class='outtop'></td><td class='outtop'></td><td class='outtop'></td><td class='outtop'></td><td class='outtop'></td><td class='outtop'></td><td class='outtop'></td></tr><tr style='border: none;'><td class='outtop' style='border-left: #666699 solid 2px;'>     </td><td class='outtop' style=''> 2 </td><td class='outtop' style=''> 2 </td><td class='outtop' style='border-left: #666699 solid 2px;'> 2 </td><td class='outtop' style=''>     </td><td class='outtop' style=''>     </td><td class='outtop' style='border-left: #666699 solid 2px;'>     </td><td class='outtop' style=''>     </td><td class='outtop' style='border-right: #666699 solid 2px;'>     </td><td class='outtop'></td><td class='outtop'></td><td class='outtop'></td><td class='outtop'></td><td class='outtop'></td><td class='outtop'></td><td class='outtop'></td><td class='outtop'></td><td class='outtop'></td></tr><tr style='border: none;'><td class='outtop' style='border-left: #666699 solid 2px;'> 3 </td><td class='outtop' style=''> 3 </td><td class='outtop' style=''>     </td><td class='outtop' style='border-left: #666699 solid 2px;'>     </td><td class='outtop' style=''> 3 </td><td class='outtop' style=''>     </td><td class='outtop' style='border-left: #666699 solid 2px;'>     </td><td class='outtop' style=''>     </td><td class='outtop' style='border-right: #666699 solid 2px;'> 3 </td><td class='outtop'></td><td class='outtop'></td><td class='outtop'></td><td class='outtop'></td><td class='outtop'></td><td class='outtop'></td><td class='outtop'></td><td class='outtop'></td><td class='outtop'></td></tr><tr style='border: none;'><td class='outtop' style='border-left: #666699 solid 2px;'>     </td><td class='outtop' style=''>     </td><td class='outtop' style=''>     </td><td class='outtop' style='border-left: #666699 solid 2px;'>     </td><td class='outtop' style=''>     </td><td class='outtop' style=''>     </td><td class='outtop' style='border-left: #666699 solid 2px;'> 4 </td><td class='outtop' style=''>     </td><td class='outtop' style='border-right: #666699 solid 2px;'>     </td><td class='outtop'></td><td class='outtop'></td><td class='outtop'></td><td class='outtop'></td><td class='outtop'></td><td class='outtop'></td><td class='outtop'></td><td class='outtop'></td><td class='outtop'></td></tr><tr style='border: none;'><td class='outtop' style='border-left: #666699 solid 2px;'>     </td><td class='outtop' style=''>     </td><td class='outtop' style=''>     </td><td class='outtop' style='border-left: #666699 solid 2px;'>     </td><td class='outtop' style=''>     </td><td class='outtop' style=''>     </td><td class='outtop' style='border-left: #666699 solid 2px;'>     </td><td class='outtop' style=''> 5 </td><td class='outtop' style='border-right: #666699 solid 2px;'>     </td><td class='outtop'></td><td class='outtop'></td><td class='outtop'></td><td class='outtop'></td><td class='outtop'></td><td class='outtop'></td><td class='outtop'></td><td class='outtop'></td><td class='outtop'></td></tr><tr style='border: none;'><td class='outtop' style='border-left: #666699 solid 2px;'>     </td><td class='outtop' style=''> 6 </td><td class='outtop' style=''>     </td><td class='outtop' style='border-left: #666699 solid 2px;'> 6 </td><td class='outtop' style=''>     </td><td class='outtop' style=''> 6 </td><td class='outtop' style='border-left: #666699 solid 2px;'>     </td><td class='outtop' style=''>     </td><td class='outtop' style='border-right: #666699 solid 2px;'> 6 </td><td class='outtop'></td><td class='outtop'></td><td class='outtop'></td><td class='outtop'></td><td class='outtop'></td><td class='outtop'></td><td class='outtop'></td><td class='outtop'></td><td class='outtop'></td></tr><tr style='border: none;'><td class='outtop' style='border-left: #666699 solid 2px;'>     </td><td class='outtop' style=''>     </td><td class='outtop' style=''> 7 </td><td class='outtop' style='border-left: #666699 solid 2px;'>     </td><td class='outtop' style=''>     </td><td class='outtop' style=''> 7 </td><td class='outtop' style='border-left: #666699 solid 2px;'> 7 </td><td class='outtop' style=''> 7 </td><td class='outtop' style='border-right: #666699 solid 2px;'>     </td><td class='outtop'></td><td class='outtop'></td><td class='outtop'></td><td class='outtop'></td><td class='outtop'></td><td class='outtop'></td><td class='outtop'></td><td class='outtop'></td><td class='outtop'></td></tr><tr style='border: none;'><td class='outtop' style='border-left: #666699 solid 2px;'>     </td><td class='outtop' style=''>     </td><td class='outtop' style=''>     </td><td class='outtop' style='border-left: #666699 solid 2px;'> 8 </td><td class='outtop' style=''> 8 </td><td class='outtop' style=''>     </td><td class='outtop' style='border-left: #666699 solid 2px;'>     </td><td class='outtop' style=''>     </td><td class='outtop' style='border-right: #666699 solid 2px;'>     </td><td class='outtop'></td><td class='outtop'></td><td class='outtop'></td><td class='outtop'></td><td class='outtop'></td><td class='outtop'></td><td class='outtop'></td><td class='outtop'></td><td class='outtop'></td></tr><tr style='border: none;'><td class='outtop' style='border-left: #666699 solid 2px;'> 9 </td><td class='outtop' style=''> 9 </td><td class='outtop' style=''>     </td><td class='outtop' style='border-left: #666699 solid 2px;'>     </td><td class='outtop' style=''>     </td><td class='outtop' style=''>     </td><td class='outtop' style='border-left: #666699 solid 2px;'>     </td><td class='outtop' style=''> 9 </td><td class='outtop' style='border-right: #666699 solid 2px;'>     </td><td class='outtop'></td><td class='outtop'></td><td class='outtop'></td><td class='outtop'></td><td class='outtop'></td><td class='outtop'></td><td class='outtop'></td><td class='outtop'></td><td class='outtop'></td></tr><tr style='border:none; border-collapse:collapse; background-color:#AAAAAA 1px; border-top: #666699 solid 2px'><td class='board' style='border-left: #666699 solid 2px;'>5</td><td class='board' style=''>1</td><td class='board' style=''>3</td><td class='board' style='border-left: #666699 solid 2px;'>7</td><td class='board' style=''>6</td><td class='board' style=''>8</td><td class='board' style='border-left: #666699 solid 2px;'>9</td><td class='board' style=''>4</td><td class='board' style='border-right: #666699 solid 2px;'>2</td><td class='out'> </td><td class='out'> </td><td class='out'> </td><td class='out'> </td><td class='out'> </td><td class='out'> </td><td class='out'> </td><td class='out'> </td><td class='out'> </td></tr><tr style='border: #AAAAAA 1px'><td class='board' style='border-left: #666699 solid 2px;'>6</td><td class='board' style=''>7</td><td class='board' style=''>4</td><td class='board' style='border-left: #666699 solid 2px;'>3</td><td class='board' style=''>9</td><td class='board' style=''>1</td><td class='board' style='border-left: #666699 solid 2px;'>5</td><td class='board' style=''>2</td><td class='board' style='border-right: #666699 solid 2px;'>8</td><td class='out'> </td><td class='out'> </td><td class='out'> </td><td class='out'> </td><td class='out'> </td><td class='out'> </td><td class='out'> </td><td class='out'> </td><td class='out'> </td></tr><tr style='border: #AAAAAA 1px'><td class='board' style='border-left: #666699 solid 2px;'>4</td><td class='board' style=''>1</td><td class='board' style=''>6</td><td class='board' style='border-left: #666699 solid 2px;'>5</td><td class='board' style=''>9</td><td class='board' style=''>2</td><td class='board' style='border-left: #666699 solid 2px;'>8</td><td class='board' style=''>3</td><td class='board' style='border-right: #666699 solid 2px;'>7</td><td class='out'> </td><td class='out'> </td><td class='out'> </td><td class='out'> </td><td class='out'> </td><td class='out'> </td><td class='out'> </td><td class='out'> </td><td class='out'> </td></tr><tr style='border:none; border-collapse:collapse; background-color:#AAAAAA 1px; border-top: #666699 solid 2px'><td class='board' style='border-left: #666699 solid 2px;'>2</td><td class='board' style=''>1</td><td class='board' style=''>5</td><td class='board' style='border-left: #666699 solid 2px;'>7</td><td class='board' style=''>4</td><td class='board' style=''>3</td><td class='board' style='border-left: #666699 solid 2px;'>6</td><td class='board' style=''>8</td><td class='board' style='border-right: #666699 solid 2px;'>9</td><td class='out'> </td><td class='out'> </td><td class='out'> </td><td class='out'> </td><td class='out'> </td><td class='out'> </td><td class='out'> </td><td class='out'> </td><td class='out'> </td></tr><tr style='border: #AAAAAA 1px'><td class='board' style='border-left: #666699 solid 2px;'>7</td><td class='board' style=''>5</td><td class='board' style=''>6</td><td class='board' style='border-left: #666699 solid 2px;'>3</td><td class='board' style=''>4</td><td class='board' style=''>1</td><td class='board' style='border-left: #666699 solid 2px;'>2</td><td class='board' style=''>8</td><td class='board' style='border-right: #666699 solid 2px;'>9</td><td class='out'> </td><td class='out'> </td><td class='out'> </td><td class='out'> </td><td class='out'> </td><td class='out'> </td><td class='out'> </td><td class='out'> </td><td class='out'> </td></tr><tr style='border: #AAAAAA 1px'><td class='board' style='border-left: #666699 solid 2px;'>6</td><td class='board' style=''>1</td><td class='board' style=''>9</td><td class='board' style='border-left: #666699 solid 2px;'>4</td><td class='board' style=''>7</td><td class='board' style=''>2</td><td class='board' style='border-left: #666699 solid 2px;'>3</td><td class='board' style=''>8</td><td class='board' style='border-right: #666699 solid 2px;'>5</td><td class='out'> </td><td class='out'> </td><td class='out'> </td><td class='out'> </td><td class='out'> </td><td class='out'> </td><td class='out'> </td><td class='out'> </td><td class='out'> </td></tr><tr style='border:none; border-collapse:collapse; background-color:#AAAAAA 1px; border-top: #666699 solid 2px'><td class='board' style='border-left: #666699 solid 2px;'>5</td><td class='board' style=''>8</td><td class='board' style=''>6</td><td class='board' style='border-left: #666699 solid 2px;'>9</td><td class='board' style=''>7</td><td class='board' style=''>4</td><td class='board' style='border-left: #666699 solid 2px;'>3</td><td class='board' style=''>2</td><td class='board' style='border-right: #666699 solid 2px;'>1</td><td class='out'> </td><td class='out'> </td><td class='out'> </td><td class='out'> </td><td class='out'> </td><td class='out'> </td><td class='out'> </td><td class='out'> </td><td class='out'> </td></tr><tr style='border: #AAAAAA 1px'><td class='board' style='border-left: #666699 solid 2px;'>8</td><td class='board' style=''>4</td><td class='board' style=''>1</td><td class='board' style='border-left: #666699 solid 2px;'>9</td><td class='board' style=''>2</td><td class='board' style=''>5</td><td class='board' style='border-left: #666699 solid 2px;'>6</td><td class='board' style=''>3</td><td class='board' style='border-right: #666699 solid 2px;'>7</td><td class='out'> </td><td class='out'> </td><td class='out'> </td><td class='out'> </td><td class='out'> </td><td class='out'> </td><td class='out'> </td><td class='out'> </td><td class='out'> </td></tr><tr style='border: #AAAAAA 1px'><td class='board' style='border-left: #666699 solid 2px;'>2</td><td class='board' style=''>7</td><td class='board' style=''>8</td><td class='board' style='border-left: #666699 solid 2px;'>1</td><td class='board' style=''>5</td><td class='board' style=''>9</td><td class='board' style='border-left: #666699 solid 2px;'>3</td><td class='board' style=''>6</td><td class='board' style='border-right: #666699 solid 2px;'>4</td><td class='out'> </td><td class='out'> </td><td class='out'> </td><td class='out'> </td><td class='out'> </td><td class='out'> </td><td class='out'> </td><td class='out'> </td><td class='out'> </td></tr></table></center>"
      ],
      "text/plain": [
       "<IPython.core.display.HTML object>"
      ]
     },
     "execution_count": 7,
     "metadata": {},
     "output_type": "execute_result"
    }
   ],
   "source": [
    "IPython.display.HTML(sudoku.prettyprinthtml())"
   ]
  },
  {
   "cell_type": "markdown",
   "metadata": {},
   "source": [
    "To begin, you will want to be familiar with the Sudoku board and interface for accessing rows, columns, and boxes. "
   ]
  },
  {
   "cell_type": "markdown",
   "metadata": {},
   "source": [
    "### Problem 1: CSP Variables"
   ]
  },
  {
   "cell_type": "markdown",
   "metadata": {},
   "source": [
    "For this assignment we will be modelling Sudoku as a CSP. Each box in the grid represents a variable based on `(row, col)`. The variable is either assigned a label ($1\\ldots 9$) or $\\epsilon$ (`0`) when it has not yet been assigned. Given the current assignment, the *domain* of each variable is also limited. When all the variables have been assigned the assignment is complete. For the first problem you should implement the following functions in the `Sudoku` class which model the variables of the Sudoku CSP. "
   ]
  },
  {
   "cell_type": "code",
   "execution_count": 6,
   "metadata": {
    "collapsed": false
   },
   "outputs": [
    {
     "data": {
      "text/plain": [
       "(0, 2)"
      ]
     },
     "execution_count": 6,
     "metadata": {},
     "output_type": "execute_result"
    }
   ],
   "source": [
    "doc(sudoku.firstEpsilonVariable)"
   ]
  },
  {
   "cell_type": "code",
   "execution_count": 8,
   "metadata": {
    "collapsed": false
   },
   "outputs": [
    {
     "data": {
      "text/plain": [
       "False"
      ]
     },
     "execution_count": 8,
     "metadata": {},
     "output_type": "execute_result"
    }
   ],
   "source": [
    "doc(sudoku.complete) "
   ]
  },
  {
   "cell_type": "code",
   "execution_count": 12,
   "metadata": {
    "collapsed": false
   },
   "outputs": [
    {
     "data": {
      "text/plain": [
       "[1, None, None, None, None, None, 7, 8, None]"
      ]
     },
     "execution_count": 12,
     "metadata": {},
     "output_type": "execute_result"
    }
   ],
   "source": [
    "doc(sudoku.variableDomain) "
   ]
  },
  {
   "cell_type": "markdown",
   "metadata": {},
   "source": [
    "### Problem 2: CSP Factors"
   ]
  },
  {
   "cell_type": "markdown",
   "metadata": {},
   "source": [
    "Next we will implement the factors of the CSP. The rules of Sudoku say that there must be labels from 1-9 in each row, column, and box. Each of these will be represented by factors `(type, id)`, for instance `(ROW, 2)` is the factor corresponding to the third-row. \n",
    "\n",
    "_Note:_ These functions should update `self.factorRemaining` and `self.factorNumConflicts`. The datatype of `self.factorRemaining[type, id]` should always be a list of length 9. When a label is no longer available, instead of removing it, it should be replaced by `None`. For conflicts, you should count the number of times any label is used more than once. We provide the helper function `crossOff` to help with this book-keeping.\n",
    "\n",
    "For this problem, you should implement functions which keep track of the remaining labels available for a given factor as well as the number of violation of that factor in the case of inconsistent assignments. To do this, you should implement the following functions:"
   ]
  },
  {
   "cell_type": "code",
   "execution_count": 4,
   "metadata": {
    "collapsed": false
   },
   "outputs": [],
   "source": [
    "doc(sudoku.updateFactor)"
   ]
  },
  {
   "cell_type": "code",
   "execution_count": 4,
   "metadata": {
    "collapsed": false
   },
   "outputs": [],
   "source": [
    "doc(sudoku.updateAllFactors)"
   ]
  },
  {
   "cell_type": "code",
   "execution_count": 7,
   "metadata": {
    "collapsed": false
   },
   "outputs": [],
   "source": [
    "doc(sudoku.updateVariableFactors)"
   ]
  },
  {
   "cell_type": "markdown",
   "metadata": {},
   "source": [
    "## Classical Search (5 points)"
   ]
  },
  {
   "cell_type": "markdown",
   "metadata": {},
   "source": [
    "### Problem 3: Solving Sudoku with backtracking\n",
    "\n",
    "The `solveCSP` function will simply perform a depth first search on a tree of generic problem states. Running this function requires getting the next variable to search and all the possible labels that variable can take on. \n",
    "\n",
    "First you should implement the function `getSuccessors` which should return a list of Sudoku objects representing all possible successor assignments resulting from assigning a label to a variable. Note that for simplicity, unlike the pseudo-code in class we are not doing backtracking (undoing the assignments). This function will need to call `setVariable` which copies the state to produce new assignments."
   ]
  },
  {
   "cell_type": "code",
   "execution_count": 15,
   "metadata": {
    "collapsed": false
   },
   "outputs": [
    {
     "data": {
      "text/plain": [
       "[[None, 0, 0, 0, 0, 8, 9, 0, 2],\n",
       " [6, 0, 4, 3, 0, 0, 0, 0, 0],\n",
       " [0, 0, 0, 5, 9, 0, 0, 0, 0],\n",
       " [0, 0, 5, 7, 0, 3, 0, 0, 9],\n",
       " [7, 0, 0, 0, 4, 0, 0, 0, 0],\n",
       " [0, 0, 9, 0, 0, 0, 3, 0, 5],\n",
       " [0, 8, 0, 0, 0, 4, 0, 0, 0],\n",
       " [0, 4, 1, 0, 0, 0, 0, 3, 0],\n",
       " [2, 0, 0, 1, 5, 0, 0, 0, 0]]"
      ]
     },
     "execution_count": 15,
     "metadata": {},
     "output_type": "execute_result"
    }
   ],
   "source": [
    "doc(sudoku.getSuccessors)"
   ]
  },
  {
   "cell_type": "markdown",
   "metadata": {},
   "source": [
    "After you have implemented this method, run the program by running."
   ]
  },
  {
   "cell_type": "code",
   "execution_count": 2,
   "metadata": {
    "collapsed": false
   },
   "outputs": [
    {
     "name": "stdout",
     "output_type": "stream",
     "text": [
      "Namespace(debug=False, debug_ipython=False, easy=False, forward=False, localsearch=False, mostconstrained=False, time=False)\n",
      "Number of explored: 56734\n",
      "Solution: \n",
      "\u001b[92m            |             |             \n",
      "            |             |             \n",
      "            |             |             \n",
      "            |             |             \n",
      "            |             |             \n",
      "            |             |             \n",
      "            |             |             \n",
      "            |             |             \n",
      "            |             |             \n",
      "(0) (0) (0) | (0) (0) (0) | (0) (0) (0) \n",
      "\u001b[92m........................................\n",
      "\n",
      " 3   5   7  |  4   6   8  |  9   1   2  :                   (0) \n",
      "\n",
      " 6   9   4  |  3   2   1  |  5   8   7  :                   (0) \n",
      "\n",
      " 1   2   8  |  5   9   7  |  6   4   3  :                   (0) \n",
      "\n",
      "----------------------------------------\n",
      "\n",
      " 8   6   5  |  7   1   3  |  4   2   9  :                   (0) \n",
      "\n",
      " 7   3   2  |  9   4   5  |  1   6   8  :                   (0) \n",
      "\n",
      " 4   1   9  |  6   8   2  |  3   7   5  :                   (0) \n",
      "\n",
      "----------------------------------------\n",
      "\n",
      " 9   8   6  |  2   3   4  |  7   5   1  :                   (0) \n",
      "\n",
      " 5   4   1  |  8   7   9  |  2   3   6  :                   (0) \n",
      "\n",
      " 2   7   3  |  1   5   6  |  8   9  \u001b[1m 4 \u001b[92m :                   (0) \n",
      "\n",
      "\n",
      "Time elapsed: 5.7636179924\n"
     ]
    }
   ],
   "source": [
    "!python sudoku.py \n",
    "# or to see each stage use\n",
    "#!python sudoku.py --debug=1"
   ]
  },
  {
   "cell_type": "markdown",
   "metadata": {},
   "source": [
    "Take note of how many states the CSP solver explores, and how much time it takes to solve the puzzle.\n",
    "\n",
    "### Problem 4: Improving performance with Forward Checking.\n",
    "\n",
    "Now, you will try to improve the performance of your Sudoku solver by implementing forward checking. Forward checking cuts off search when any variable has an empty domain. There are two ways to implement forward checking.\n",
    "\n",
    "1. Whenever a variable is assigned an update, the domain of any associated variable (i.e. any variable two edges away in the factor graph) is updated as well. \n",
    "\n",
    "2. Recompute the domains of all unassigned variables on-the-fly to try and find empty variables. \n",
    "\n",
    "The first method is faster, but requires some more modifications and variable tracking. The second method is simpler, and fine for the Sudoku problem. We will accept both.\n",
    "\n",
    "First, take a look at: the function `getSuccessorsWithForwardChecking()` and then implement `forwardCheck`\n"
   ]
  },
  {
   "cell_type": "code",
   "execution_count": 9,
   "metadata": {
    "collapsed": false
   },
   "outputs": [
    {
     "data": {
      "text/html": [
       "<dl><dt><a name=\"-forwardCheck\"><strong>forwardCheck</strong></a>(self)<font color=\"#909090\"><font face=\"helvetica, arial\"> method of <a href=\"sudoku.html#Sudoku\">sudoku.Sudoku</a> instance</font></font></dt><dd><tt>IMPLEMENT&nbsp;IN&nbsp;PART&nbsp;4<br>\n",
       "Returns&nbsp;true&nbsp;if&nbsp;all&nbsp;variables&nbsp;have&nbsp;non-empty&nbsp;domains.</tt></dd></dl>\n"
      ],
      "text/plain": [
       "<IPython.core.display.HTML object>"
      ]
     },
     "execution_count": 9,
     "metadata": {},
     "output_type": "execute_result"
    }
   ],
   "source": [
    "doc(sudoku.forwardCheck)"
   ]
  },
  {
   "cell_type": "markdown",
   "metadata": {},
   "source": [
    "Run the program and take note of the number of states explored and how much time it takes.\n"
   ]
  },
  {
   "cell_type": "code",
   "execution_count": 3,
   "metadata": {
    "collapsed": false
   },
   "outputs": [
    {
     "name": "stdout",
     "output_type": "stream",
     "text": [
      "Namespace(debug=False, debug_ipython=False, easy=False, forward='1', localsearch=False, mostconstrained=False, time=False)\n",
      "Number of explored: 7095\n",
      "Solution: \n",
      "\u001b[92m            |             |             \n",
      "            |             |             \n",
      "            |             |             \n",
      "            |             |             \n",
      "            |             |             \n",
      "            |             |             \n",
      "            |             |             \n",
      "            |             |             \n",
      "            |             |             \n",
      "(0) (0) (0) | (0) (0) (0) | (0) (0) (0) \n",
      "\u001b[92m........................................\n",
      "\n",
      " 3   5   7  |  4   6   8  |  9   1   2  :                   (0) \n",
      "\n",
      " 6   9   4  |  3   2   1  |  5   8   7  :                   (0) \n",
      "\n",
      " 1   2   8  |  5   9   7  |  6   4   3  :                   (0) \n",
      "\n",
      "----------------------------------------\n",
      "\n",
      " 8   6   5  |  7   1   3  |  4   2   9  :                   (0) \n",
      "\n",
      " 7   3   2  |  9   4   5  |  1   6   8  :                   (0) \n",
      "\n",
      " 4   1   9  |  6   8   2  |  3   7   5  :                   (0) \n",
      "\n",
      "----------------------------------------\n",
      "\n",
      " 9   8   6  |  2   3   4  |  7   5   1  :                   (0) \n",
      "\n",
      " 5   4   1  |  8   7   9  |  2   3   6  :                   (0) \n",
      "\n",
      " 2   7   3  |  1   5   6  |  8   9  \u001b[1m 4 \u001b[92m :                   (0) \n",
      "\n",
      "\n",
      "Time elapsed: 3.96580219269\n"
     ]
    }
   ],
   "source": [
    "!python sudoku.py --forward 1"
   ]
  },
  {
   "cell_type": "markdown",
   "metadata": {},
   "source": [
    "## Local Search (5 points)"
   ]
  },
  {
   "cell_type": "markdown",
   "metadata": {},
   "source": [
    "### Problem 5: Sampling Complete Solutions\n",
    "\n",
    "In the next several problems we consider a different approach to finding a solution to Sudoku, local search. In \n",
    "local search instead of working with consistent, incomplete assignments, we will instead use inconsistent, complete assignments. To start we need to sample a random complete assignment. It is often good to start with some randomness but also satisfying some of the factors. For Sudoku we start with the following constraint:\n",
    "\n",
    "* Sample returns a complete assignment with all *Row* factors satisfied.\n",
    "\n",
    "\n",
    "You should implement this with the function `randomRestart`:"
   ]
  },
  {
   "cell_type": "code",
   "execution_count": 5,
   "metadata": {
    "collapsed": false
   },
   "outputs": [],
   "source": [
    "doc(sudoku.randomRestart)"
   ]
  },
  {
   "cell_type": "markdown",
   "metadata": {},
   "source": [
    "When this works you should be able to call `prettyprint` and see zeros along the rows but not the columns, for example"
   ]
  },
  {
   "cell_type": "code",
   "execution_count": 6,
   "metadata": {
    "collapsed": false
   },
   "outputs": [
    {
     "data": {
      "text/html": [
       "<style>\n",
       "         .sudoku .board {\n",
       "            width: 20pt;\n",
       "            text-align: center;\n",
       "            border-color: #AAAAAA;\n",
       "         }\n",
       "\n",
       "         .sudoku .out {\n",
       "            width: 10pt;\n",
       "            text-align: center;\n",
       "            border-color: #FFFFFF;\n",
       "         }\n",
       "\n",
       "         .sudoku .outtop {\n",
       "            padding: 0pt;\n",
       "            text-align: center;\n",
       "            border-color: #FFFFFF;\n",
       "         }\n",
       "\n",
       "        </style><center><table class='sudoku' style='border:none;border-collapse:collapse;  background-color:#FFFFFF; border: #666699 solid 2px;'><tr style='border: none;'><td class='outtop' style='border-left: #666699 solid 2px;'>     </td><td class='outtop' style=''>     </td><td class='outtop' style=''> 1 </td><td class='outtop' style='border-left: #666699 solid 2px;'>     </td><td class='outtop' style=''> 1 </td><td class='outtop' style=''>     </td><td class='outtop' style='border-left: #666699 solid 2px;'>     </td><td class='outtop' style=''> 1 </td><td class='outtop' style='border-right: #666699 solid 2px;'> 1 </td><td class='outtop'></td><td class='outtop'></td><td class='outtop'></td><td class='outtop'></td><td class='outtop'></td><td class='outtop'></td><td class='outtop'></td><td class='outtop'></td><td class='outtop'></td></tr><tr style='border: none;'><td class='outtop' style='border-left: #666699 solid 2px;'>     </td><td class='outtop' style=''>     </td><td class='outtop' style=''>     </td><td class='outtop' style='border-left: #666699 solid 2px;'> 2 </td><td class='outtop' style=''> 2 </td><td class='outtop' style=''>     </td><td class='outtop' style='border-left: #666699 solid 2px;'>     </td><td class='outtop' style=''> 2 </td><td class='outtop' style='border-right: #666699 solid 2px;'>     </td><td class='outtop'></td><td class='outtop'></td><td class='outtop'></td><td class='outtop'></td><td class='outtop'></td><td class='outtop'></td><td class='outtop'></td><td class='outtop'></td><td class='outtop'></td></tr><tr style='border: none;'><td class='outtop' style='border-left: #666699 solid 2px;'>     </td><td class='outtop' style=''> 3 </td><td class='outtop' style=''> 3 </td><td class='outtop' style='border-left: #666699 solid 2px;'>     </td><td class='outtop' style=''>     </td><td class='outtop' style=''>     </td><td class='outtop' style='border-left: #666699 solid 2px;'> 3 </td><td class='outtop' style=''>     </td><td class='outtop' style='border-right: #666699 solid 2px;'> 3 </td><td class='outtop'></td><td class='outtop'></td><td class='outtop'></td><td class='outtop'></td><td class='outtop'></td><td class='outtop'></td><td class='outtop'></td><td class='outtop'></td><td class='outtop'></td></tr><tr style='border: none;'><td class='outtop' style='border-left: #666699 solid 2px;'>     </td><td class='outtop' style=''>     </td><td class='outtop' style=''> 4 </td><td class='outtop' style='border-left: #666699 solid 2px;'>     </td><td class='outtop' style=''>     </td><td class='outtop' style=''>     </td><td class='outtop' style='border-left: #666699 solid 2px;'> 4 </td><td class='outtop' style=''>     </td><td class='outtop' style='border-right: #666699 solid 2px;'>     </td><td class='outtop'></td><td class='outtop'></td><td class='outtop'></td><td class='outtop'></td><td class='outtop'></td><td class='outtop'></td><td class='outtop'></td><td class='outtop'></td><td class='outtop'></td></tr><tr style='border: none;'><td class='outtop' style='border-left: #666699 solid 2px;'> 5 </td><td class='outtop' style=''>     </td><td class='outtop' style=''>     </td><td class='outtop' style='border-left: #666699 solid 2px;'>     </td><td class='outtop' style=''>     </td><td class='outtop' style=''> 5 </td><td class='outtop' style='border-left: #666699 solid 2px;'>     </td><td class='outtop' style=''>     </td><td class='outtop' style='border-right: #666699 solid 2px;'> 5 </td><td class='outtop'></td><td class='outtop'></td><td class='outtop'></td><td class='outtop'></td><td class='outtop'></td><td class='outtop'></td><td class='outtop'></td><td class='outtop'></td><td class='outtop'></td></tr><tr style='border: none;'><td class='outtop' style='border-left: #666699 solid 2px;'> 6 </td><td class='outtop' style=''> 6 </td><td class='outtop' style=''>     </td><td class='outtop' style='border-left: #666699 solid 2px;'>     </td><td class='outtop' style=''> 6 </td><td class='outtop' style=''>     </td><td class='outtop' style='border-left: #666699 solid 2px;'>     </td><td class='outtop' style=''>     </td><td class='outtop' style='border-right: #666699 solid 2px;'>     </td><td class='outtop'></td><td class='outtop'></td><td class='outtop'></td><td class='outtop'></td><td class='outtop'></td><td class='outtop'></td><td class='outtop'></td><td class='outtop'></td><td class='outtop'></td></tr><tr style='border: none;'><td class='outtop' style='border-left: #666699 solid 2px;'>     </td><td class='outtop' style=''> 7 </td><td class='outtop' style=''> 7 </td><td class='outtop' style='border-left: #666699 solid 2px;'>     </td><td class='outtop' style=''>     </td><td class='outtop' style=''> 7 </td><td class='outtop' style='border-left: #666699 solid 2px;'>     </td><td class='outtop' style=''>     </td><td class='outtop' style='border-right: #666699 solid 2px;'>     </td><td class='outtop'></td><td class='outtop'></td><td class='outtop'></td><td class='outtop'></td><td class='outtop'></td><td class='outtop'></td><td class='outtop'></td><td class='outtop'></td><td class='outtop'></td></tr><tr style='border: none;'><td class='outtop' style='border-left: #666699 solid 2px;'> 8 </td><td class='outtop' style=''>     </td><td class='outtop' style=''>     </td><td class='outtop' style='border-left: #666699 solid 2px;'> 8 </td><td class='outtop' style=''>     </td><td class='outtop' style=''>     </td><td class='outtop' style='border-left: #666699 solid 2px;'> 8 </td><td class='outtop' style=''> 8 </td><td class='outtop' style='border-right: #666699 solid 2px;'>     </td><td class='outtop'></td><td class='outtop'></td><td class='outtop'></td><td class='outtop'></td><td class='outtop'></td><td class='outtop'></td><td class='outtop'></td><td class='outtop'></td><td class='outtop'></td></tr><tr style='border: none;'><td class='outtop' style='border-left: #666699 solid 2px;'>     </td><td class='outtop' style=''> 9 </td><td class='outtop' style=''> 9 </td><td class='outtop' style='border-left: #666699 solid 2px;'>     </td><td class='outtop' style=''>     </td><td class='outtop' style=''>     </td><td class='outtop' style='border-left: #666699 solid 2px;'>     </td><td class='outtop' style=''>     </td><td class='outtop' style='border-right: #666699 solid 2px;'> 9 </td><td class='outtop'></td><td class='outtop'></td><td class='outtop'></td><td class='outtop'></td><td class='outtop'></td><td class='outtop'></td><td class='outtop'></td><td class='outtop'></td><td class='outtop'></td></tr><tr style='border:none; border-collapse:collapse; background-color:#AAAAAA 1px; border-top: #666699 solid 2px'><td class='board' style='border-left: #666699 solid 2px;'>4</td><td class='board' style=''>2</td><td class='board' style=''>5</td><td class='board' style='border-left: #666699 solid 2px;'>1</td><td class='board' style=''>7</td><td class='board' style=''>8</td><td class='board' style='border-left: #666699 solid 2px;'>9</td><td class='board' style=''>3</td><td class='board' style='border-right: #666699 solid 2px;'>6</td><td class='out'> </td><td class='out'> </td><td class='out'> </td><td class='out'> </td><td class='out'> </td><td class='out'> </td><td class='out'> </td><td class='out'> </td><td class='out'> </td></tr><tr style='border: #AAAAAA 1px'><td class='board' style='border-left: #666699 solid 2px;'>7</td><td class='board' style=''>4</td><td class='board' style=''>6</td><td class='board' style='border-left: #666699 solid 2px;'>3</td><td class='board' style=''>5</td><td class='board' style=''>2</td><td class='board' style='border-left: #666699 solid 2px;'>1</td><td class='board' style=''>9</td><td class='board' style='border-right: #666699 solid 2px;'>8</td><td class='out'> </td><td class='out'> </td><td class='out'> </td><td class='out'> </td><td class='out'> </td><td class='out'> </td><td class='out'> </td><td class='out'> </td><td class='out'> </td></tr><tr style='border: #AAAAAA 1px'><td class='board' style='border-left: #666699 solid 2px;'>1</td><td class='board' style=''>2</td><td class='board' style=''>8</td><td class='board' style='border-left: #666699 solid 2px;'>5</td><td class='board' style=''>7</td><td class='board' style=''>4</td><td class='board' style='border-left: #666699 solid 2px;'>9</td><td class='board' style=''>3</td><td class='board' style='border-right: #666699 solid 2px;'>6</td><td class='out'> </td><td class='out'> </td><td class='out'> </td><td class='out'> </td><td class='out'> </td><td class='out'> </td><td class='out'> </td><td class='out'> </td><td class='out'> </td></tr><tr style='border:none; border-collapse:collapse; background-color:#AAAAAA 1px; border-top: #666699 solid 2px'><td class='board' style='border-left: #666699 solid 2px;'>2</td><td class='board' style=''>1</td><td class='board' style=''>8</td><td class='board' style='border-left: #666699 solid 2px;'>6</td><td class='board' style=''>9</td><td class='board' style=''>3</td><td class='board' style='border-left: #666699 solid 2px;'>5</td><td class='board' style=''>4</td><td class='board' style='border-right: #666699 solid 2px;'>7</td><td class='out'> </td><td class='out'> </td><td class='out'> </td><td class='out'> </td><td class='out'> </td><td class='out'> </td><td class='out'> </td><td class='out'> </td><td class='out'> </td></tr><tr style='border: #AAAAAA 1px'><td class='board' style='border-left: #666699 solid 2px;'>3</td><td class='board' style=''>1</td><td class='board' style=''>2</td><td class='board' style='border-left: #666699 solid 2px;'>6</td><td class='board' style=''>9</td><td class='board' style=''>8</td><td class='board' style='border-left: #666699 solid 2px;'>5</td><td class='board' style=''>7</td><td class='board' style='border-right: #666699 solid 2px;'>4</td><td class='out'> </td><td class='out'> </td><td class='out'> </td><td class='out'> </td><td class='out'> </td><td class='out'> </td><td class='out'> </td><td class='out'> </td><td class='out'> </td></tr><tr style='border: #AAAAAA 1px'><td class='board' style='border-left: #666699 solid 2px;'>1</td><td class='board' style=''>5</td><td class='board' style=''>6</td><td class='board' style='border-left: #666699 solid 2px;'>7</td><td class='board' style=''>4</td><td class='board' style=''>9</td><td class='board' style='border-left: #666699 solid 2px;'>2</td><td class='board' style=''>3</td><td class='board' style='border-right: #666699 solid 2px;'>8</td><td class='out'> </td><td class='out'> </td><td class='out'> </td><td class='out'> </td><td class='out'> </td><td class='out'> </td><td class='out'> </td><td class='out'> </td><td class='out'> </td></tr><tr style='border:none; border-collapse:collapse; background-color:#AAAAAA 1px; border-top: #666699 solid 2px'><td class='board' style='border-left: #666699 solid 2px;'>9</td><td class='board' style=''>4</td><td class='board' style=''>5</td><td class='board' style='border-left: #666699 solid 2px;'>3</td><td class='board' style=''>8</td><td class='board' style=''>1</td><td class='board' style='border-left: #666699 solid 2px;'>6</td><td class='board' style=''>7</td><td class='board' style='border-right: #666699 solid 2px;'>2</td><td class='out'> </td><td class='out'> </td><td class='out'> </td><td class='out'> </td><td class='out'> </td><td class='out'> </td><td class='out'> </td><td class='out'> </td><td class='out'> </td></tr><tr style='border: #AAAAAA 1px'><td class='board' style='border-left: #666699 solid 2px;'>3</td><td class='board' style=''>8</td><td class='board' style=''>2</td><td class='board' style='border-left: #666699 solid 2px;'>9</td><td class='board' style=''>7</td><td class='board' style=''>1</td><td class='board' style='border-left: #666699 solid 2px;'>5</td><td class='board' style=''>6</td><td class='board' style='border-right: #666699 solid 2px;'>4</td><td class='out'> </td><td class='out'> </td><td class='out'> </td><td class='out'> </td><td class='out'> </td><td class='out'> </td><td class='out'> </td><td class='out'> </td><td class='out'> </td></tr><tr style='border: #AAAAAA 1px'><td class='board' style='border-left: #666699 solid 2px;'>9</td><td class='board' style=''>1</td><td class='board' style=''>8</td><td class='board' style='border-left: #666699 solid 2px;'>4</td><td class='board' style=''>3</td><td class='board' style=''>6</td><td class='board' style='border-left: #666699 solid 2px;'>7</td><td class='board' style=''>5</td><td class='board' style='border-right: #666699 solid 2px;'>2</td><td class='out'> </td><td class='out'> </td><td class='out'> </td><td class='out'> </td><td class='out'> </td><td class='out'> </td><td class='out'> </td><td class='out'> </td><td class='out'> </td></tr></table></center>"
      ],
      "text/plain": [
       "<IPython.core.display.HTML object>"
      ]
     },
     "execution_count": 6,
     "metadata": {},
     "output_type": "execute_result"
    }
   ],
   "source": [
    "board = [[4, 2, 5, 1, 7, 8, 9, 3, 6], [7, 4, 6, 3, 5, 2, 1, 9, 8], [1, 2, 8, 5, 7, 4, 9, 3, 6], [2, 1, 8, 6, 9, 3, 5, 4, 7], [3, 1, 2, 6, 9, 8, 5, 7, 4 \n",
    "], [1, 5, 6, 7, 4, 9, 2, 3, 8], [9, 4, 5, 3, 8, 1, 6, 7, 2], [3, 8, 2, 9, 7, 1, 5, 6, 4], [9, 1, 8, 4, 3, 6, 7, 5, 2]]\n",
    "IPython.display.HTML(Sudoku(board).prettyprinthtml())"
   ]
  },
  {
   "cell_type": "markdown",
   "metadata": {},
   "source": [
    "### Problem 6: Neighbors\n",
    "\n",
    "Local search algorithms also require being able to produce neighbors for a given assignment. We will be doing this by stochastic descent, so we will never be required to fully enumerate all the neighbors. Instead we will find neighboring assignments at random.\n",
    "\n",
    "One way to produce neighbors is to change variables at random. However for Sudoku this hardly ever results in progress towards a consistent solution. For Sudoku we can be a bit more clever and maintain consistency along some of the factors, in particular the row factors. \n",
    "\n",
    "To produce partially consistent neighbors, we do the following swap:\n",
    "\n",
    "* Randomly select a row \n",
    "* Swap two of the entries, being careful not to change any of the original values. \n",
    "\n",
    "For this problem you will implement this function as `randomSwap`"
   ]
  },
  {
   "cell_type": "code",
   "execution_count": 2,
   "metadata": {
    "collapsed": false
   },
   "outputs": [],
   "source": [
    "doc(sudoku.randomSwap)"
   ]
  },
  {
   "cell_type": "markdown",
   "metadata": {},
   "source": [
    "### Problem 7: Stochastic Descent\n",
    "\n",
    "Finally, you will implement the full local search algorithm. The algorithm should start with a random assignment with  consistent rows. At each iteration we run the following check:\n",
    "\n",
    "1. Sample a neighbor\n",
    "\n",
    "2. If it has a better or equal score under $f$, then move to that neighbor\n",
    "\n",
    "3. Otherwise, return to step 1.\n",
    "\n"
   ]
  },
  {
   "cell_type": "markdown",
   "metadata": {},
   "source": [
    "For the scoring function $f$ we use the current number of constraints that are violated. For efficiency, our implementation keeps a running count of the violations of each assignment. You will have to understand this representation and implement the following function."
   ]
  },
  {
   "cell_type": "code",
   "execution_count": 13,
   "metadata": {
    "collapsed": false
   },
   "outputs": [
    {
     "data": {
      "text/html": [
       "<dl><dt><a name=\"-gradientDescent\"><strong>gradientDescent</strong></a>(self, variable1, variable2)<font color=\"#909090\"><font face=\"helvetica, arial\"> method of <a href=\"sudoku.html#Sudoku\">sudoku.Sudoku</a> instance</font></font></dt><dd><tt>IMPLEMENT&nbsp;FOR&nbsp;PART&nbsp;7<br>\n",
       "Decide&nbsp;if&nbsp;we&nbsp;should&nbsp;swap&nbsp;the&nbsp;values&nbsp;of&nbsp;variable1&nbsp;and&nbsp;variable2.</tt></dd></dl>\n"
      ],
      "text/plain": [
       "<IPython.core.display.HTML object>"
      ]
     },
     "execution_count": 13,
     "metadata": {},
     "output_type": "execute_result"
    }
   ],
   "source": [
    "doc(sudoku.gradientDescent)"
   ]
  },
  {
   "cell_type": "markdown",
   "metadata": {},
   "source": [
    "To run the algorithm, we use the following commandline. Note that for this problem we will use the easier sudoku board as local search is less effective than standard DFS."
   ]
  },
  {
   "cell_type": "code",
   "execution_count": 5,
   "metadata": {
    "collapsed": false
   },
   "outputs": [
    {
     "name": "stdout",
     "output_type": "stream",
     "text": [
      "Namespace(debug=False, debug_ipython=False, easy='1', forward=False, localsearch='1', mostconstrained=False, time=False)\n",
      "Solution: \n",
      "\u001b[92m            |             |             \n",
      "            |             |             \n",
      "            |             |             \n",
      "            |             |             \n",
      "            |             |             \n",
      "            |             |             \n",
      "            |             |             \n",
      "            |             |             \n",
      "            |             |             \n",
      "(0) (0) (0) | (0) (0) (0) | (0) (0) (0) \n",
      "\u001b[92m........................................\n",
      "\n",
      " 6   2   9  |  1   7   8  |  4   3   5  :                   (0) \n",
      "\n",
      " 8   4   5  |  3   6   2  |  7   9   1  :                   (0) \n",
      "\n",
      " 1   3   7  |  5   9   4  |  8   2   6  :                   (0) \n",
      "\n",
      "----------------------------------------\n",
      "\n",
      " 2   7   8  |  6   4   3  |  5   1   9  :                   (0) \n",
      "\n",
      " 3   9   1  |  2   8   5  |  6   7   4  :                   (0) \n",
      "\n",
      " 4   5   6  |  7   1   9  |  2   8   3  :                   (0) \n",
      "\n",
      "----------------------------------------\n",
      "\n",
      " 9   6   3  |  8   5   7  |  1   4   2  :                   (0) \n",
      "\n",
      " 5   8   4  |  9   2   1  |  3   6   7  :                   (0) \n",
      "\n",
      " 7   1   2  |  4   3   6  |  9   5   8  :                   (0) \n",
      "\n",
      "\n",
      "Time elapsed: 13.1520440578\n"
     ]
    }
   ],
   "source": [
    "!python sudoku.py --easy 1 --localsearch=1"
   ]
  },
  {
   "cell_type": "markdown",
   "metadata": {},
   "source": [
    "Run this algorithm 5 times. How often does it find a solution? Instrument your code so that it prints out the number of constraints still being violated. \n",
    "\n",
    "Now modify the stochastic descent function to randomly take some non-optimal moves. \n",
    "\n",
    "1. Sample a neighbor\n",
    "\n",
    "2. If it has a better or equal score under $f$, then move to that neighbor\n",
    "\n",
    "3. With probability 0.001, then move to that neighbor even if $f$ is higher.\n",
    "\n",
    "4. Otherwise, return to step 1.\n",
    "\n",
    "Run this algorithm 5 times on the problem. What do you see now? "
   ]
  },
  {
   "cell_type": "markdown",
   "metadata": {},
   "source": [
    "## Part 3: Written Assignment (10 points)\n",
    "\n",
    "### Question 1 (3 points)\n",
    "\n",
    "In addition to minimax/expectimax, another way to design an agent to play Pacman is to create an agent that uses an evaluation function to decide its actions. This means that at each step, the agent uses an evaluation function to rate each possible action (i.e. a direction that Pacman can move) and chooses the action with the best rating. Describe an evaluation function that could be used to play Pacman successfully.\n",
    "\n",
    "### Question 2 (3 points)\n",
    "\n",
    "Prove the following assertion: For every game tree, the utility obtained by MAX using minimax decisions against a suboptimal MIN will be never be lower than the utility obtained playing against an optimal MIN. Can you come up with a game tree in which MAX can do still better using a _suboptimal_ strategy against a suboptimal MIN?\n",
    "\n",
    "### Question 3 (4 points)\n",
    "\n",
    "AC-3 puts back on the queue _every_ arc $(X_k, X_i)$ whenever _any_ value is deleted from the domain of $X_i$, even if each value of $X_k$ is consistent with several remaining values of $X_i$. Suppose that, for every arc $(X_k, X_i)$, we keep track of the number of remaining values of $X_i$ that are consistent with each value of $X_k$. Explain how to update these numbers efficiently and hence show that arc consistency can be enforced in total time $O(n^2d^2)$."
   ]
  },
  {
   "cell_type": "code",
   "execution_count": null,
   "metadata": {
    "collapsed": true
   },
   "outputs": [],
   "source": []
  }
 ],
 "metadata": {
  "kernelspec": {
   "display_name": "Python [Root]",
   "language": "python",
   "name": "Python [Root]"
  },
  "language_info": {
   "codemirror_mode": {
    "name": "ipython",
    "version": 2
   },
   "file_extension": ".py",
   "mimetype": "text/x-python",
   "name": "python",
   "nbconvert_exporter": "python",
   "pygments_lexer": "ipython2",
   "version": "2.7.13"
  }
 },
 "nbformat": 4,
 "nbformat_minor": 1
}
